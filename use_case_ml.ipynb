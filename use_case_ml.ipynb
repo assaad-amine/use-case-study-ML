{
  "cells": [
    {
      "cell_type": "markdown",
      "metadata": {
        "id": "87Y9VRnA79-C"
      },
      "source": [
        "# Use Case Machine Learning\n",
        "\n",
        ">"
      ]
    },
    {
      "cell_type": "markdown",
      "metadata": {
        "id": "PxCAqwkJb2BH"
      },
      "source": [
        "\n",
        "\n",
        "---\n",
        "\n"
      ]
    },
    {
      "cell_type": "markdown",
      "metadata": {
        "id": "Kkl0Kfs4b392"
      },
      "source": [
        "# Installation des packages nécessaires pour les plots."
      ]
    },
    {
      "cell_type": "code",
      "execution_count": null,
      "metadata": {
        "id": "FfSHfKjhsTSj"
      },
      "outputs": [],
      "source": [
        "! pip install --upgrade plotly\n",
        "! pip install jupyter-dash"
      ]
    },
    {
      "cell_type": "code",
      "execution_count": null,
      "metadata": {
        "id": "p-ypnzlVcNwM"
      },
      "outputs": [],
      "source": [
        "! pip install kneed"
      ]
    },
    {
      "cell_type": "markdown",
      "metadata": {
        "id": "_sNHSptacA-F"
      },
      "source": [
        "# Importation des classes nécessaires pour notre étude."
      ]
    },
    {
      "cell_type": "code",
      "execution_count": null,
      "metadata": {
        "id": "yczrX7W0qC1F"
      },
      "outputs": [],
      "source": [
        "import pandas as pd\n",
        "import numpy as np\n",
        "\n",
        "import plotly.express as px\n",
        "import plotly.graph_objects as go\n",
        "import plotly.figure_factory as ff\n",
        "\n",
        "from sklearn.impute import KNNImputer\n",
        "from sklearn.preprocessing import StandardScaler\n",
        "from sklearn.decomposition import PCA\n",
        "from sklearn.cluster import KMeans\n",
        "from kneed import KneeLocator # sert à détecter l'hyper-parametre K pour la méthode KMeans\n",
        "from scipy.cluster.hierarchy import dendrogram, linkage\n",
        "from sklearn.cluster import AgglomerativeClustering\n",
        "\n",
        "from sklearn.metrics import silhouette_score"
      ]
    },
    {
      "cell_type": "markdown",
      "metadata": {
        "id": "n_MKjFQlDsPR"
      },
      "source": [
        "# Chargement des données"
      ]
    },
    {
      "cell_type": "code",
      "execution_count": null,
      "metadata": {
        "id": "XqrixlKyg0N5"
      },
      "outputs": [],
      "source": [
        "! gdown --id 1f3saJ6cefP_UUSZ4Qi9M488rNrU6nSS1"
      ]
    },
    {
      "cell_type": "code",
      "execution_count": null,
      "metadata": {
        "id": "6tZ7hNFON_a_"
      },
      "outputs": [],
      "source": [
        "df = pd.read_csv('base-comparateur-de-territoires.csv', sep = \";\")"
      ]
    },
    {
      "cell_type": "markdown",
      "metadata": {
        "id": "dMrN1_-oDyAw"
      },
      "source": [
        "# Exploration"
      ]
    },
    {
      "cell_type": "code",
      "execution_count": null,
      "metadata": {
        "id": "-_C0z6_oSTvn"
      },
      "outputs": [],
      "source": [
        "df.shape"
      ]
    },
    {
      "cell_type": "code",
      "execution_count": null,
      "metadata": {
        "id": "nCv6GYVqe1Lp"
      },
      "outputs": [],
      "source": [
        "df.head()"
      ]
    },
    {
      "cell_type": "code",
      "execution_count": null,
      "metadata": {
        "id": "L9Sgi7QPOevD"
      },
      "outputs": [],
      "source": [
        "df.columns"
      ]
    },
    {
      "cell_type": "markdown",
      "metadata": {
        "id": "Hi0C27Sw2_IQ"
      },
      "source": [
        "On a 3 observations qui n'ont pas des coordonnées, on ne peut pas les donner des valeurs aléatoires."
      ]
    },
    {
      "cell_type": "code",
      "execution_count": null,
      "metadata": {
        "id": "59HmPaE9STEi"
      },
      "outputs": [],
      "source": [
        "df.info()"
      ]
    },
    {
      "cell_type": "markdown",
      "metadata": {
        "id": "n83Ed1xadPMQ"
      },
      "source": [
        "On doit les supprimer."
      ]
    },
    {
      "cell_type": "code",
      "execution_count": null,
      "metadata": {
        "id": "sO3QhKHblU_7"
      },
      "outputs": [],
      "source": [
        "df.dropna(subset = ['geo_point_2d'], inplace = True)"
      ]
    },
    {
      "cell_type": "markdown",
      "metadata": {
        "id": "rgXLK2WAYYP7"
      },
      "source": [
        "On détache le libelé et les coordonnées pour les utiliser après."
      ]
    },
    {
      "cell_type": "code",
      "execution_count": null,
      "metadata": {
        "id": "4RAdF6uUimq1"
      },
      "outputs": [],
      "source": [
        "libele = df['LIBGEO']\n",
        "lat = [float(x.split(\",\")[0]) for x in df['geo_point_2d'] if not pd.isnull(x)]\n",
        "lon = [float(x.split(\",\")[1]) for x in df['geo_point_2d'] if not pd.isnull(x)]"
      ]
    },
    {
      "cell_type": "markdown",
      "metadata": {
        "id": "IqX4wFE6SEbq"
      },
      "source": [
        "Suppréssion des features inutiles (on est interessé par les données sociodémographiques)"
      ]
    },
    {
      "cell_type": "code",
      "execution_count": null,
      "metadata": {
        "id": "jdqFmm8FPhjO"
      },
      "outputs": [],
      "source": [
        "df.drop(['CODGEO', 'LIBGEO', 'DEP', 'REG', 'Geo Shape', 'geo_point_2d'], axis = 1, inplace = True)"
      ]
    },
    {
      "cell_type": "markdown",
      "metadata": {
        "id": "sTP7RZvRdY98"
      },
      "source": [
        "Il reste encore des valeurs manquants."
      ]
    },
    {
      "cell_type": "code",
      "execution_count": null,
      "metadata": {
        "id": "i9GDl8ArdceF"
      },
      "outputs": [],
      "source": [
        "df.isna().sum()"
      ]
    },
    {
      "cell_type": "markdown",
      "metadata": {
        "id": "cEvoCGSHSLFQ"
      },
      "source": [
        "Suppréssion des features qui ont un pourcentage des valeurs manquantes supérieur à 30%.\n",
        "* Pandas.count() -> compte nombre de valeurs non nulles d'une colonne."
      ]
    },
    {
      "cell_type": "code",
      "execution_count": null,
      "metadata": {
        "id": "1MOdp7eTZQnE"
      },
      "outputs": [],
      "source": [
        "nrows = df.shape[0]\n",
        "for col in df.columns:\n",
        "  if ( nrows - df[col].count() ) / nrows > 0.3:\n",
        "    print(f'La colonne {col} a été supprimé.')\n",
        "    df.drop(col, axis = 1, inplace = True)"
      ]
    },
    {
      "cell_type": "markdown",
      "metadata": {
        "id": "ViZUc_Tr5jwQ"
      },
      "source": [
        "Remplissage des valeurs manquantes par la méthode KNNImputer."
      ]
    },
    {
      "cell_type": "code",
      "execution_count": null,
      "metadata": {
        "id": "23XH6ZRmnJsb"
      },
      "outputs": [],
      "source": [
        "for col in df.columns:\n",
        "  imputer = KNNImputer(missing_values = np.nan, n_neighbors = 3)\n",
        "  df[col] = imputer.fit_transform(df[col].values.reshape(-1, 1))"
      ]
    },
    {
      "cell_type": "markdown",
      "metadata": {
        "id": "OmvMFxFqbwPb"
      },
      "source": [
        "Box plot pour vérifier l'existence des valeurs outliers.\n",
        "- On remarque qu'il existe des outliers dans toutes les colonnes."
      ]
    },
    {
      "cell_type": "code",
      "execution_count": null,
      "metadata": {
        "id": "ckF4SwDCW2z-"
      },
      "outputs": [],
      "source": [
        "px.box(df)"
      ]
    },
    {
      "cell_type": "markdown",
      "metadata": {
        "id": "PbvNgNzBZJVv"
      },
      "source": [
        "Utilisation de la méthode 'Interquartile range' (IQR) pour l'élimination des outliers.\n",
        "* numpy.where(condition, x, y) \n",
        "  * si le condition est vrai retourne x sinon y."
      ]
    },
    {
      "cell_type": "code",
      "execution_count": null,
      "metadata": {
        "id": "lggSrv3OlnyO"
      },
      "outputs": [],
      "source": [
        "for col in df.columns:\n",
        "  q25, q75 = np.percentile(df[col].dropna(), 25), np.percentile(df[col].dropna(), 75)\n",
        "  iqr = q75 - q25\n",
        "  upper_limit = q75 + 1.5 * iqr\n",
        "  lower_limit = q25 - 1.5 * iqr\n",
        "  df[col] = np.where(\n",
        "      df[col] < lower_limit,\n",
        "      lower_limit,\n",
        "      np.where(\n",
        "          df[col] > upper_limit,\n",
        "          upper_limit,\n",
        "          df[col]\n",
        "      )\n",
        "  )"
      ]
    },
    {
      "cell_type": "markdown",
      "metadata": {
        "id": "QIsLkAl2FZ_m"
      },
      "source": [
        "Les outliers ont été supprimés avec succès.\n",
        "- Les features ont des unités différent, on doit les standariser."
      ]
    },
    {
      "cell_type": "code",
      "execution_count": null,
      "metadata": {
        "id": "xB9BykkjmyF2"
      },
      "outputs": [],
      "source": [
        "px.box(df)"
      ]
    },
    {
      "cell_type": "markdown",
      "metadata": {
        "id": "xNlhXKfel62-"
      },
      "source": [
        "# Test de corrélation"
      ]
    },
    {
      "cell_type": "markdown",
      "metadata": {
        "id": "g7n8SLLsieKY"
      },
      "source": [
        "Heat map des corrélations entre les features.\n",
        "- On remarque que la plupart des features sont fortement corrélés entre eux.\n",
        " - On doit réduire la dimensionnalité."
      ]
    },
    {
      "cell_type": "code",
      "execution_count": null,
      "metadata": {
        "id": "tsdcuXzWkBbJ"
      },
      "outputs": [],
      "source": [
        "fig = go.Figure(\n",
        "    data = go.Heatmap(\n",
        "        z = df.corr(), x = df.columns, y = df.columns\n",
        "    )\n",
        ")\n",
        "fig.show()"
      ]
    },
    {
      "cell_type": "markdown",
      "metadata": {
        "id": "qz1FWqNPBSHO"
      },
      "source": [
        "# Standarisation"
      ]
    },
    {
      "cell_type": "markdown",
      "metadata": {
        "id": "VjMoMuVXGI7U"
      },
      "source": [
        "Méthode de z-score.\n",
        "- (Xi - moyen) / écart-type"
      ]
    },
    {
      "cell_type": "code",
      "execution_count": null,
      "metadata": {
        "id": "ANjhqZQU3-KX"
      },
      "outputs": [],
      "source": [
        "df_scaled = StandardScaler().fit_transform(df)"
      ]
    },
    {
      "cell_type": "markdown",
      "metadata": {
        "id": "vEuuyeOolcN3"
      },
      "source": [
        "# ACP"
      ]
    },
    {
      "cell_type": "markdown",
      "metadata": {
        "id": "OmzESNE6GNtU"
      },
      "source": [
        "Réduction de dimensionnalité."
      ]
    },
    {
      "cell_type": "code",
      "execution_count": null,
      "metadata": {
        "id": "qsLAg1FdhFml"
      },
      "outputs": [],
      "source": [
        "df_pca = PCA().fit(df_scaled)"
      ]
    },
    {
      "cell_type": "markdown",
      "metadata": {
        "id": "4V2vxwXNxLr5"
      },
      "source": [
        "Calcul de la somme cummulé des variances exprimés par les features afin de détecter le nombre de composants qui expriment le plus part d'information."
      ]
    },
    {
      "cell_type": "code",
      "execution_count": null,
      "metadata": {
        "id": "ait6EXxM037n"
      },
      "outputs": [],
      "source": [
        "cumsum_variance = np.cumsum(df_pca.explained_variance_ratio_)"
      ]
    },
    {
      "cell_type": "markdown",
      "metadata": {
        "id": "TCc0Di2foaFd"
      },
      "source": [
        "Plot de sommes cummulés des variances.\n",
        "- kteb lih comenter a amhil rak tema (3zelna nb components = 2 hitach qui exprimer ~95% dyl l'information)"
      ]
    },
    {
      "cell_type": "code",
      "execution_count": null,
      "metadata": {
        "id": "9AaTUKjrhLqd"
      },
      "outputs": [],
      "source": [
        "px.line(cumsum_variance)"
      ]
    },
    {
      "cell_type": "markdown",
      "metadata": {
        "id": "rkPsQnb0GgWS"
      },
      "source": [
        "ACP avec 2 composants principales."
      ]
    },
    {
      "cell_type": "code",
      "execution_count": null,
      "metadata": {
        "id": "p09fKUNShpF2"
      },
      "outputs": [],
      "source": [
        "df_pca = PCA(n_components=2).fit_transform(df)"
      ]
    },
    {
      "cell_type": "code",
      "execution_count": null,
      "metadata": {
        "id": "EcQdKmknhymG"
      },
      "outputs": [],
      "source": [
        "df_pca"
      ]
    },
    {
      "cell_type": "markdown",
      "metadata": {
        "id": "D63hQQr6x_8q"
      },
      "source": [
        "\n",
        "\n",
        "> # KMeans\n",
        "\n"
      ]
    },
    {
      "cell_type": "markdown",
      "metadata": {
        "id": "bxEWzWwJx3Iq"
      },
      "source": [
        "### Détection de la meilleur valeur d'hyper-parametre K"
      ]
    },
    {
      "cell_type": "markdown",
      "metadata": {
        "id": "EBRtNeXryNzo"
      },
      "source": [
        "inertie = somme carré des distances entre les observations\n",
        "- On sauvegarde les models correpondants aux différents valeurs de K pour ne pas les calculer à nouveau lors après le choix de K optimale."
      ]
    },
    {
      "cell_type": "code",
      "execution_count": null,
      "metadata": {
        "id": "iakhIPoyh1CO"
      },
      "outputs": [],
      "source": [
        "nb_clusters = range(2, 31)\n",
        "inertie = []\n",
        "models = []\n",
        "for K in nb_clusters:\n",
        "  kmeans = KMeans(K)\n",
        "  kmeans.fit(df_pca)\n",
        "  models.append(kmeans)\n",
        "  inertie.append(kmeans.inertia_)"
      ]
    },
    {
      "cell_type": "markdown",
      "metadata": {
        "id": "0DYNj_-_aniq"
      },
      "source": [
        "Elbow plot.\n",
        "- La meilleure valeur de K est comprise entre 7 et 10."
      ]
    },
    {
      "cell_type": "code",
      "execution_count": null,
      "metadata": {
        "id": "O02dR7Z8qVQL"
      },
      "outputs": [],
      "source": [
        "px.line(\n",
        "    x = nb_clusters,\n",
        "    y = inertie,\n",
        "    labels = {\n",
        "        \"x\": \"nombre de clusters (K)\",\n",
        "        \"y\": \"inertie\"\n",
        "    }\n",
        ")"
      ]
    },
    {
      "cell_type": "markdown",
      "metadata": {
        "id": "YffcMiLuar2P"
      },
      "source": [
        "Détection numérique de 'Elbow point' avec la fonction KneeLocator du package 'kneed'."
      ]
    },
    {
      "cell_type": "code",
      "execution_count": null,
      "metadata": {
        "id": "FiaigsL5qSJW"
      },
      "outputs": [],
      "source": [
        "kl = KneeLocator(nb_clusters, inertie, S=1.0, curve='convex', direction='decreasing')\n",
        "K = kl.elbow\n",
        "print(f'La valeur optimale de K est {K}.')"
      ]
    },
    {
      "cell_type": "markdown",
      "metadata": {
        "id": "VivG2UG6-4Vu"
      },
      "source": [
        "**range(2, ..)** donc le model correspondant est K - 2."
      ]
    },
    {
      "cell_type": "code",
      "execution_count": null,
      "metadata": {
        "id": "91894iohqhT-"
      },
      "outputs": [],
      "source": [
        "kmeans = models[K - 2]"
      ]
    },
    {
      "cell_type": "code",
      "execution_count": null,
      "metadata": {
        "id": "7qQ8_jDV09WA"
      },
      "outputs": [],
      "source": [
        "kmeans.cluster_centers_"
      ]
    },
    {
      "cell_type": "code",
      "execution_count": null,
      "metadata": {
        "id": "XqeKMQ391GTv"
      },
      "outputs": [],
      "source": [
        "classes_kmeans = kmeans.labels_\n",
        "classes_kmeans"
      ]
    },
    {
      "cell_type": "markdown",
      "metadata": {
        "id": "oP85tW4Mv3eD"
      },
      "source": [
        "\n",
        "> # CAH\n",
        "\n"
      ]
    },
    {
      "cell_type": "markdown",
      "metadata": {
        "id": "O-ozT3d3r9jA"
      },
      "source": [
        "Dendrogram\n",
        "- Le K est le nombre des lignes verticales qui traversent la coupe horizontale correspondant au plus grand saut entre deux clusters consécutifs.\n",
        "- Ward's Linkage Method. Instead of measuring the distance directly, it analyzes the variance of clusters. Ward's is said to be the most suitable method for quantitative variables."
      ]
    },
    {
      "cell_type": "code",
      "execution_count": null,
      "metadata": {
        "id": "wsvqWyyHvPQq"
      },
      "outputs": [],
      "source": [
        "ff.create_dendrogram(\n",
        "    df_pca,\n",
        "    linkagefun = lambda x: linkage(x, \"ward\")\n",
        ")"
      ]
    },
    {
      "cell_type": "code",
      "execution_count": null,
      "metadata": {
        "id": "wxX8Bw3aueYw"
      },
      "outputs": [],
      "source": [
        "cah = AgglomerativeClustering(n_clusters = 5).fit(df_pca)"
      ]
    },
    {
      "cell_type": "code",
      "execution_count": null,
      "metadata": {
        "id": "CeuRPhQouezk"
      },
      "outputs": [],
      "source": [
        "classes_cah = cah.labels_\n",
        "classes_cah"
      ]
    },
    {
      "cell_type": "markdown",
      "metadata": {
        "id": "sTmKeD3B1O5f"
      },
      "source": [
        "\n",
        "> # Comparaison entre KMeans et CAH\n",
        "\n",
        "\n",
        "\n",
        "\n"
      ]
    },
    {
      "cell_type": "markdown",
      "metadata": {
        "id": "CcM4WgwKe8e3"
      },
      "source": [
        "- On ne peut pas évaluer nos models puisqu'on n'a pas des classes (labels) réels pour notre données.\n",
        " - Donc Il faut comparer le coefficient silhouette des deux clusters générés par les deux models.\n",
        "   - The silhouette method computes silhouette coefficients of each point that measure how much a point is similar to its own cluster compared to other clusters."
      ]
    },
    {
      "cell_type": "markdown",
      "metadata": {
        "id": "Kp0pSVnZ1zPo"
      },
      "source": [
        "Le coefficient silhouette de CAH."
      ]
    },
    {
      "cell_type": "code",
      "execution_count": null,
      "metadata": {
        "id": "bS-bkq6kxO9K"
      },
      "outputs": [],
      "source": [
        "silhouette_score(df_pca, classes_cah)"
      ]
    },
    {
      "cell_type": "markdown",
      "metadata": {
        "id": "OukM24Co15oI"
      },
      "source": [
        "Le coefficient silhouette de KMeans."
      ]
    },
    {
      "cell_type": "code",
      "execution_count": null,
      "metadata": {
        "id": "T4hI_z_HxZlp"
      },
      "outputs": [],
      "source": [
        "silhouette_score(df_pca, kmeans.labels_)"
      ]
    },
    {
      "cell_type": "markdown",
      "metadata": {
        "id": "JsM2c_3C19Ro"
      },
      "source": [
        "Le coefficient de la méthode KMeans est plus grand que celui de CAH.\n",
        "- On va utiliser le KMeans pour le regroupement des communes."
      ]
    },
    {
      "cell_type": "markdown",
      "metadata": {
        "id": "NwzerYrGolM8"
      },
      "source": [
        "Assemblage de données."
      ]
    },
    {
      "cell_type": "code",
      "execution_count": null,
      "metadata": {
        "id": "eHJCCo09nHev"
      },
      "outputs": [],
      "source": [
        "communes = pd.DataFrame(\n",
        "    {\n",
        "      'component1': df_pca[:, 0],\n",
        "      'component2': df_pca[:, 1],\n",
        "      'classe': kmeans.labels_,\n",
        "      'libele': libele,\n",
        "      'lat': lat,\n",
        "      'lon': lon\n",
        "    }\n",
        ")"
      ]
    },
    {
      "cell_type": "code",
      "execution_count": null,
      "metadata": {
        "id": "H1VmDCt2nZgH"
      },
      "outputs": [],
      "source": [
        "communes.head()"
      ]
    },
    {
      "cell_type": "markdown",
      "metadata": {
        "id": "CeOI4pF82cC4"
      },
      "source": [
        "10 communes qui ont des caractéristiques communs et qui appartient au 1er groupement."
      ]
    },
    {
      "cell_type": "code",
      "execution_count": null,
      "metadata": {
        "id": "tzL-fquh2eLg"
      },
      "outputs": [],
      "source": [
        "communes[communes['classe'] == 0]['libele'].tolist()[:10]"
      ]
    },
    {
      "cell_type": "markdown",
      "metadata": {
        "id": "OwcSUkEtrLRA"
      },
      "source": [
        "\n",
        "> # Visualisation\n",
        "\n"
      ]
    },
    {
      "cell_type": "markdown",
      "metadata": {
        "id": "wtwZqRM7rAsj"
      },
      "source": [
        "Visualisation des communes avec le plot à nuage de points."
      ]
    },
    {
      "cell_type": "code",
      "execution_count": null,
      "metadata": {
        "id": "Weu81wyLqmmt"
      },
      "outputs": [],
      "source": [
        "px.scatter(\n",
        "    communes,\n",
        "    x = 'component1',\n",
        "    y = 'component2',\n",
        "    color = 'classe',\n",
        "    hover_data = ['libele']\n",
        ")"
      ]
    },
    {
      "cell_type": "markdown",
      "metadata": {
        "id": "chYJ3LNZqMeW"
      },
      "source": [
        "Visualisation des communes dans un Map.\n",
        "- color = appartenance à une classe."
      ]
    },
    {
      "cell_type": "code",
      "execution_count": null,
      "metadata": {
        "id": "KcH1oTk7uK4-"
      },
      "outputs": [],
      "source": [
        "px.scatter_mapbox(\n",
        "    communes,\n",
        "    lat = \"lat\",\n",
        "    lon = \"lon\",\n",
        "    color = \"classe\",\n",
        "    hover_data = ['libele'],\n",
        "    size_max = 20,\n",
        "    zoom = 9,\n",
        "    mapbox_style = \"carto-positron\"\n",
        ")"
      ]
    },
    {
      "cell_type": "markdown",
      "metadata": {
        "id": "we-zIPlJuqxX"
      },
      "source": [
        "Map plus sophistiqué."
      ]
    },
    {
      "cell_type": "code",
      "execution_count": null,
      "metadata": {
        "id": "BsbknMslJ1s1"
      },
      "outputs": [],
      "source": [
        "px.scatter_mapbox(\n",
        "    communes,\n",
        "    lat = \"lat\",\n",
        "    lon = \"lon\",\n",
        "    color = \"classe\",\n",
        "    hover_data = ['libele'],\n",
        "    size_max = 20,\n",
        "    zoom = 9,\n",
        "    mapbox_style = \"open-street-map\"\n",
        ")"
      ]
    }
  ],
  "metadata": {
    "colab": {
      "collapsed_sections": [],
      "name": "use case ml",
      "private_outputs": true,
      "provenance": []
    },
    "kernelspec": {
      "display_name": "Python 3",
      "name": "python3"
    },
    "language_info": {
      "name": "python"
    }
  },
  "nbformat": 4,
  "nbformat_minor": 0
}
